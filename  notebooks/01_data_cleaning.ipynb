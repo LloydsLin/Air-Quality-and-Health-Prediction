{
  "nbformat": 4,
  "nbformat_minor": 0,
  "metadata": {
    "colab": {
      "provenance": [],
      "authorship_tag": "ABX9TyOOOZ70EXGSwo9Gi+Hv2VeM",
      "include_colab_link": true
    },
    "kernelspec": {
      "name": "python3",
      "display_name": "Python 3"
    },
    "language_info": {
      "name": "python"
    }
  },
  "cells": [
    {
      "cell_type": "markdown",
      "metadata": {
        "id": "view-in-github",
        "colab_type": "text"
      },
      "source": [
        "<a href=\"https://colab.research.google.com/github/LloydsLin/Air-Quality-and-Health-Prediction/blob/main/%20notebooks/01_data_cleaning.ipynb\" target=\"_parent\"><img src=\"https://colab.research.google.com/assets/colab-badge.svg\" alt=\"Open In Colab\"/></a>"
      ]
    },
    {
      "cell_type": "code",
      "execution_count": null,
      "metadata": {
        "id": "QmKXMdxI-_I_"
      },
      "outputs": [],
      "source": [
        "# 1. 📦 Import necessary libraries\n",
        "import pandas as pd\n",
        "import numpy as np\n",
        "\n",
        "# 2. 📂 Load dataset\n",
        "# Replace this with your actual dataset path or URL\n",
        "url = \"https://raw.githubusercontent.com/plotly/datasets/master/2011_us_ag_exports.csv\"\n",
        "df = pd.read_csv(url)\n",
        "\n",
        "# Show the first 5 rows\n",
        "print(\"🔍 First 5 rows:\")\n",
        "display(df.head())\n",
        "\n",
        "# 3. 📏 Basic dataset info\n",
        "print(\"📊 Dataset Info:\")\n",
        "df.info()\n",
        "\n",
        "# 4. ❌ Check for missing values\n",
        "print(\"🕳️ Missing Values:\")\n",
        "display(df.isnull().sum())\n",
        "\n",
        "# 5. 🧹 Drop columns with too many missing values (optional)\n",
        "# df = df.drop(columns=[\"column_name_if_many_missing\"])\n",
        "\n",
        "# 6. 🧪 Fill or drop missing values\n",
        "df_cleaned = df.copy()\n",
        "\n",
        "# Example: fill numeric NaNs with mean\n",
        "numeric_cols = df_cleaned.select_dtypes(include=[np.number]).columns\n",
        "for col in numeric_cols:\n",
        "    df_cleaned[col].fillna(df_cleaned[col].mean(), inplace=True)\n",
        "\n",
        "# Example: fill object (string) NaNs with \"Unknown\"\n",
        "object_cols = df_cleaned.select_dtypes(include=[\"object\"]).columns\n",
        "for col in object_cols:\n",
        "    df_cleaned[col].fillna(\"Unknown\", inplace=True)\n",
        "\n",
        "# 7. 🔍 Check again\n",
        "print(\"✅ After Cleaning - Missing Values:\")\n",
        "display(df_cleaned.isnull().sum())\n",
        "\n",
        "# 8. 💾 Save cleaned data (optional)\n",
        "# Save to CSV in the same Colab runtime (downloadable)\n",
        "df_cleaned.to_csv(\"cleaned_air_quality.csv\", index=False)\n",
        "\n",
        "print(\"🎉 Data cleaning complete!\")"
      ]
    },
    {
      "cell_type": "markdown",
      "source": [
        "# New Section"
      ],
      "metadata": {
        "id": "fzYr_ndqRUJo"
      }
    }
  ]
}