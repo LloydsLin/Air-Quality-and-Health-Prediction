# 1. 📦 Import necessary libraries
import pandas as pd
import numpy as np

# 2. 📂 Load dataset
# Replace this with your actual dataset path or URL
url = "https://raw.githubusercontent.com/plotly/datasets/master/2011_us_ag_exports.csv"
df = pd.read_csv(url)

# Show the first 5 rows
print("🔍 First 5 rows:")
display(df.head())

# 3. 📏 Basic dataset info
print("📊 Dataset Info:")
df.info()

# 4. ❌ Check for missing values
print("🕳️ Missing Values:")
display(df.isnull().sum())

# 5. 🧹 Drop columns with too many missing values (optional)
# df = df.drop(columns=["column_name_if_many_missing"])

# 6. 🧪 Fill or drop missing values
df_cleaned = df.copy()

# Example: fill numeric NaNs with mean
numeric_cols = df_cleaned.select_dtypes(include=[np.number]).columns
for col in numeric_cols:
    df_cleaned[col].fillna(df_cleaned[col].mean(), inplace=True)

# Example: fill object (string) NaNs with "Unknown"
object_cols = df_cleaned.select_dtypes(include=["object"]).columns
for col in object_cols:
    df_cleaned[col].fillna("Unknown", inplace=True)

# 7. 🔍 Check again
print("✅ After Cleaning - Missing Values:")
display(df_cleaned.isnull().sum())

# 8. 💾 Save cleaned data (optional)
# Save to CSV in the same Colab runtime (downloadable)
df_cleaned.to_csv("cleaned_air_quality.csv", index=False)

print("🎉 Data cleaning complete!")
